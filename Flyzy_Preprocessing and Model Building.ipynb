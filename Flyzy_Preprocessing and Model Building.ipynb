{
 "cells": [
  {
   "cell_type": "code",
   "execution_count": 1,
   "id": "581db785-82d4-4052-bef0-a2aae45c068d",
   "metadata": {},
   "outputs": [],
   "source": [
    "# importing libraries  \n",
    "import numpy as nm  \n",
    "from matplotlib import pyplot as plt \n",
    "import pandas as pd \n",
    "%matplotlib inline\n",
    "from sklearn.model_selection import train_test_split\n",
    "from sklearn.preprocessing import OneHotEncoder, StandardScaler\n",
    "from sklearn.linear_model import LogisticRegression\n",
    "from sklearn.metrics import classification_report, confusion_matrix, accuracy_score"
   ]
  },
  {
   "cell_type": "code",
   "execution_count": 2,
   "id": "beaeaf12-7d35-4601-b6fe-5e7ec1d55690",
   "metadata": {},
   "outputs": [],
   "source": [
    "df = pd.read_csv('Flyzy Flight Cancellation - EDA.csv')"
   ]
  },
  {
   "cell_type": "code",
   "execution_count": 3,
   "id": "1cb1b7b8-ba3b-4700-a0fc-dc830bae8ac9",
   "metadata": {},
   "outputs": [
    {
     "data": {
      "text/html": [
       "<div>\n",
       "<style scoped>\n",
       "    .dataframe tbody tr th:only-of-type {\n",
       "        vertical-align: middle;\n",
       "    }\n",
       "\n",
       "    .dataframe tbody tr th {\n",
       "        vertical-align: top;\n",
       "    }\n",
       "\n",
       "    .dataframe thead th {\n",
       "        text-align: right;\n",
       "    }\n",
       "</style>\n",
       "<table border=\"1\" class=\"dataframe\">\n",
       "  <thead>\n",
       "    <tr style=\"text-align: right;\">\n",
       "      <th></th>\n",
       "      <th>Unnamed: 0.1</th>\n",
       "      <th>Unnamed: 0</th>\n",
       "      <th>Flight ID</th>\n",
       "      <th>Airline</th>\n",
       "      <th>Flight_Distance</th>\n",
       "      <th>Origin_Airport</th>\n",
       "      <th>Destination_Airport</th>\n",
       "      <th>Scheduled_Departure_Time</th>\n",
       "      <th>Day_of_Week</th>\n",
       "      <th>Month</th>\n",
       "      <th>Airplane_Type</th>\n",
       "      <th>Weather_Score</th>\n",
       "      <th>Previous_Flight_Delay_Minutes</th>\n",
       "      <th>Airline_Rating</th>\n",
       "      <th>Passenger_Load</th>\n",
       "      <th>Flight_Cancelled</th>\n",
       "    </tr>\n",
       "  </thead>\n",
       "  <tbody>\n",
       "    <tr>\n",
       "      <th>0</th>\n",
       "      <td>0</td>\n",
       "      <td>0</td>\n",
       "      <td>7319483</td>\n",
       "      <td>Airline D</td>\n",
       "      <td>475</td>\n",
       "      <td>Airport 3</td>\n",
       "      <td>Airport 2</td>\n",
       "      <td>4</td>\n",
       "      <td>6</td>\n",
       "      <td>1</td>\n",
       "      <td>Type C</td>\n",
       "      <td>0.225122</td>\n",
       "      <td>5.0</td>\n",
       "      <td>2.151974</td>\n",
       "      <td>0.477202</td>\n",
       "      <td>0</td>\n",
       "    </tr>\n",
       "    <tr>\n",
       "      <th>1</th>\n",
       "      <td>1</td>\n",
       "      <td>1</td>\n",
       "      <td>4791965</td>\n",
       "      <td>Airline E</td>\n",
       "      <td>538</td>\n",
       "      <td>Airport 5</td>\n",
       "      <td>Airport 4</td>\n",
       "      <td>12</td>\n",
       "      <td>1</td>\n",
       "      <td>6</td>\n",
       "      <td>Type B</td>\n",
       "      <td>0.060346</td>\n",
       "      <td>68.0</td>\n",
       "      <td>1.600779</td>\n",
       "      <td>0.159718</td>\n",
       "      <td>1</td>\n",
       "    </tr>\n",
       "    <tr>\n",
       "      <th>2</th>\n",
       "      <td>2</td>\n",
       "      <td>2</td>\n",
       "      <td>2991718</td>\n",
       "      <td>Airline C</td>\n",
       "      <td>565</td>\n",
       "      <td>Airport 1</td>\n",
       "      <td>Airport 2</td>\n",
       "      <td>17</td>\n",
       "      <td>3</td>\n",
       "      <td>9</td>\n",
       "      <td>Type C</td>\n",
       "      <td>0.093920</td>\n",
       "      <td>18.0</td>\n",
       "      <td>4.406848</td>\n",
       "      <td>0.256803</td>\n",
       "      <td>0</td>\n",
       "    </tr>\n",
       "    <tr>\n",
       "      <th>3</th>\n",
       "      <td>3</td>\n",
       "      <td>3</td>\n",
       "      <td>4220106</td>\n",
       "      <td>Airline E</td>\n",
       "      <td>658</td>\n",
       "      <td>Airport 5</td>\n",
       "      <td>Airport 3</td>\n",
       "      <td>1</td>\n",
       "      <td>1</td>\n",
       "      <td>8</td>\n",
       "      <td>Type B</td>\n",
       "      <td>0.656750</td>\n",
       "      <td>13.0</td>\n",
       "      <td>0.998757</td>\n",
       "      <td>0.504077</td>\n",
       "      <td>1</td>\n",
       "    </tr>\n",
       "    <tr>\n",
       "      <th>4</th>\n",
       "      <td>4</td>\n",
       "      <td>4</td>\n",
       "      <td>2263008</td>\n",
       "      <td>Airline E</td>\n",
       "      <td>566</td>\n",
       "      <td>Airport 2</td>\n",
       "      <td>Airport 2</td>\n",
       "      <td>19</td>\n",
       "      <td>7</td>\n",
       "      <td>12</td>\n",
       "      <td>Type E</td>\n",
       "      <td>0.505211</td>\n",
       "      <td>4.0</td>\n",
       "      <td>3.806206</td>\n",
       "      <td>0.019638</td>\n",
       "      <td>0</td>\n",
       "    </tr>\n",
       "  </tbody>\n",
       "</table>\n",
       "</div>"
      ],
      "text/plain": [
       "   Unnamed: 0.1  Unnamed: 0  Flight ID    Airline  Flight_Distance  \\\n",
       "0             0           0    7319483  Airline D              475   \n",
       "1             1           1    4791965  Airline E              538   \n",
       "2             2           2    2991718  Airline C              565   \n",
       "3             3           3    4220106  Airline E              658   \n",
       "4             4           4    2263008  Airline E              566   \n",
       "\n",
       "  Origin_Airport Destination_Airport  Scheduled_Departure_Time  Day_of_Week  \\\n",
       "0      Airport 3           Airport 2                         4            6   \n",
       "1      Airport 5           Airport 4                        12            1   \n",
       "2      Airport 1           Airport 2                        17            3   \n",
       "3      Airport 5           Airport 3                         1            1   \n",
       "4      Airport 2           Airport 2                        19            7   \n",
       "\n",
       "   Month Airplane_Type  Weather_Score  Previous_Flight_Delay_Minutes  \\\n",
       "0      1        Type C       0.225122                            5.0   \n",
       "1      6        Type B       0.060346                           68.0   \n",
       "2      9        Type C       0.093920                           18.0   \n",
       "3      8        Type B       0.656750                           13.0   \n",
       "4     12        Type E       0.505211                            4.0   \n",
       "\n",
       "   Airline_Rating  Passenger_Load  Flight_Cancelled  \n",
       "0        2.151974        0.477202                 0  \n",
       "1        1.600779        0.159718                 1  \n",
       "2        4.406848        0.256803                 0  \n",
       "3        0.998757        0.504077                 1  \n",
       "4        3.806206        0.019638                 0  "
      ]
     },
     "execution_count": 3,
     "metadata": {},
     "output_type": "execute_result"
    }
   ],
   "source": [
    "df.head()"
   ]
  },
  {
   "cell_type": "code",
   "execution_count": 4,
   "id": "4af09b95-980a-4173-896c-5852ecf4b09f",
   "metadata": {},
   "outputs": [],
   "source": [
    "del df['Unnamed: 0.1']"
   ]
  },
  {
   "cell_type": "code",
   "execution_count": 5,
   "id": "7af0eea2-46e0-4bd6-ba7a-e879b04f3831",
   "metadata": {},
   "outputs": [],
   "source": [
    "del df['Unnamed: 0']"
   ]
  },
  {
   "cell_type": "code",
   "execution_count": 6,
   "id": "9e27fb48-205d-40c8-af5b-600eea689b50",
   "metadata": {},
   "outputs": [
    {
     "data": {
      "text/html": [
       "<div>\n",
       "<style scoped>\n",
       "    .dataframe tbody tr th:only-of-type {\n",
       "        vertical-align: middle;\n",
       "    }\n",
       "\n",
       "    .dataframe tbody tr th {\n",
       "        vertical-align: top;\n",
       "    }\n",
       "\n",
       "    .dataframe thead th {\n",
       "        text-align: right;\n",
       "    }\n",
       "</style>\n",
       "<table border=\"1\" class=\"dataframe\">\n",
       "  <thead>\n",
       "    <tr style=\"text-align: right;\">\n",
       "      <th></th>\n",
       "      <th>Flight ID</th>\n",
       "      <th>Airline</th>\n",
       "      <th>Flight_Distance</th>\n",
       "      <th>Origin_Airport</th>\n",
       "      <th>Destination_Airport</th>\n",
       "      <th>Scheduled_Departure_Time</th>\n",
       "      <th>Day_of_Week</th>\n",
       "      <th>Month</th>\n",
       "      <th>Airplane_Type</th>\n",
       "      <th>Weather_Score</th>\n",
       "      <th>Previous_Flight_Delay_Minutes</th>\n",
       "      <th>Airline_Rating</th>\n",
       "      <th>Passenger_Load</th>\n",
       "      <th>Flight_Cancelled</th>\n",
       "    </tr>\n",
       "  </thead>\n",
       "  <tbody>\n",
       "    <tr>\n",
       "      <th>0</th>\n",
       "      <td>7319483</td>\n",
       "      <td>Airline D</td>\n",
       "      <td>475</td>\n",
       "      <td>Airport 3</td>\n",
       "      <td>Airport 2</td>\n",
       "      <td>4</td>\n",
       "      <td>6</td>\n",
       "      <td>1</td>\n",
       "      <td>Type C</td>\n",
       "      <td>0.225122</td>\n",
       "      <td>5.0</td>\n",
       "      <td>2.151974</td>\n",
       "      <td>0.477202</td>\n",
       "      <td>0</td>\n",
       "    </tr>\n",
       "    <tr>\n",
       "      <th>1</th>\n",
       "      <td>4791965</td>\n",
       "      <td>Airline E</td>\n",
       "      <td>538</td>\n",
       "      <td>Airport 5</td>\n",
       "      <td>Airport 4</td>\n",
       "      <td>12</td>\n",
       "      <td>1</td>\n",
       "      <td>6</td>\n",
       "      <td>Type B</td>\n",
       "      <td>0.060346</td>\n",
       "      <td>68.0</td>\n",
       "      <td>1.600779</td>\n",
       "      <td>0.159718</td>\n",
       "      <td>1</td>\n",
       "    </tr>\n",
       "    <tr>\n",
       "      <th>2</th>\n",
       "      <td>2991718</td>\n",
       "      <td>Airline C</td>\n",
       "      <td>565</td>\n",
       "      <td>Airport 1</td>\n",
       "      <td>Airport 2</td>\n",
       "      <td>17</td>\n",
       "      <td>3</td>\n",
       "      <td>9</td>\n",
       "      <td>Type C</td>\n",
       "      <td>0.093920</td>\n",
       "      <td>18.0</td>\n",
       "      <td>4.406848</td>\n",
       "      <td>0.256803</td>\n",
       "      <td>0</td>\n",
       "    </tr>\n",
       "    <tr>\n",
       "      <th>3</th>\n",
       "      <td>4220106</td>\n",
       "      <td>Airline E</td>\n",
       "      <td>658</td>\n",
       "      <td>Airport 5</td>\n",
       "      <td>Airport 3</td>\n",
       "      <td>1</td>\n",
       "      <td>1</td>\n",
       "      <td>8</td>\n",
       "      <td>Type B</td>\n",
       "      <td>0.656750</td>\n",
       "      <td>13.0</td>\n",
       "      <td>0.998757</td>\n",
       "      <td>0.504077</td>\n",
       "      <td>1</td>\n",
       "    </tr>\n",
       "    <tr>\n",
       "      <th>4</th>\n",
       "      <td>2263008</td>\n",
       "      <td>Airline E</td>\n",
       "      <td>566</td>\n",
       "      <td>Airport 2</td>\n",
       "      <td>Airport 2</td>\n",
       "      <td>19</td>\n",
       "      <td>7</td>\n",
       "      <td>12</td>\n",
       "      <td>Type E</td>\n",
       "      <td>0.505211</td>\n",
       "      <td>4.0</td>\n",
       "      <td>3.806206</td>\n",
       "      <td>0.019638</td>\n",
       "      <td>0</td>\n",
       "    </tr>\n",
       "  </tbody>\n",
       "</table>\n",
       "</div>"
      ],
      "text/plain": [
       "   Flight ID    Airline  Flight_Distance Origin_Airport Destination_Airport  \\\n",
       "0    7319483  Airline D              475      Airport 3           Airport 2   \n",
       "1    4791965  Airline E              538      Airport 5           Airport 4   \n",
       "2    2991718  Airline C              565      Airport 1           Airport 2   \n",
       "3    4220106  Airline E              658      Airport 5           Airport 3   \n",
       "4    2263008  Airline E              566      Airport 2           Airport 2   \n",
       "\n",
       "   Scheduled_Departure_Time  Day_of_Week  Month Airplane_Type  Weather_Score  \\\n",
       "0                         4            6      1        Type C       0.225122   \n",
       "1                        12            1      6        Type B       0.060346   \n",
       "2                        17            3      9        Type C       0.093920   \n",
       "3                         1            1      8        Type B       0.656750   \n",
       "4                        19            7     12        Type E       0.505211   \n",
       "\n",
       "   Previous_Flight_Delay_Minutes  Airline_Rating  Passenger_Load  \\\n",
       "0                            5.0        2.151974        0.477202   \n",
       "1                           68.0        1.600779        0.159718   \n",
       "2                           18.0        4.406848        0.256803   \n",
       "3                           13.0        0.998757        0.504077   \n",
       "4                            4.0        3.806206        0.019638   \n",
       "\n",
       "   Flight_Cancelled  \n",
       "0                 0  \n",
       "1                 1  \n",
       "2                 0  \n",
       "3                 1  \n",
       "4                 0  "
      ]
     },
     "execution_count": 6,
     "metadata": {},
     "output_type": "execute_result"
    }
   ],
   "source": [
    "df.head()"
   ]
  },
  {
   "cell_type": "code",
   "execution_count": 7,
   "id": "c192e3e6-3603-4457-9967-d54f74716ee1",
   "metadata": {},
   "outputs": [
    {
     "data": {
      "text/plain": [
       "(3000, 14)"
      ]
     },
     "execution_count": 7,
     "metadata": {},
     "output_type": "execute_result"
    }
   ],
   "source": [
    "df.shape"
   ]
  },
  {
   "cell_type": "markdown",
   "id": "692efa69-2e25-49f7-a689-0b6102118bfe",
   "metadata": {},
   "source": [
    "#### ● Encoding categorical variables: Some of the columns in the dataset are categorical. These need to be encoded into a format that can be understood by the model."
   ]
  },
  {
   "cell_type": "code",
   "execution_count": 9,
   "id": "c5ffb70e-83a5-4c40-af99-0a9ff75a8b1e",
   "metadata": {},
   "outputs": [],
   "source": [
    "# Identifying categorical columns\n",
    "categorical_cols = df.select_dtypes(include=['object']).columns"
   ]
  },
  {
   "cell_type": "code",
   "execution_count": 11,
   "id": "e7cd85ee-acda-4838-92bd-1a9d20e2b1c8",
   "metadata": {},
   "outputs": [],
   "source": [
    "# Encoding categorical variables\n",
    "df_encoded = pd.get_dummies(df, columns=categorical_cols, drop_first=True)"
   ]
  },
  {
   "cell_type": "markdown",
   "id": "152988e3-66de-4e1e-8030-768682448dd8",
   "metadata": {
    "tags": []
   },
   "source": [
    "#### Split the dataset into a training set and a test set."
   ]
  },
  {
   "cell_type": "code",
   "execution_count": 12,
   "id": "63499fcf-6d3c-4872-b1da-a89188589678",
   "metadata": {},
   "outputs": [],
   "source": [
    "X = df_encoded.drop('Flight_Cancelled', axis=1)\n",
    "y = df_encoded['Flight_Cancelled']\n",
    "\n",
    "# Split into training and test sets\n",
    "X_train, X_test, y_train, y_test = train_test_split(X, y, test_size=0.2, random_state=42)"
   ]
  },
  {
   "cell_type": "markdown",
   "id": "37c3b8d8-68d9-440d-a727-d858c6ff5f98",
   "metadata": {},
   "source": [
    "#### ● Feature Scaling: The ranges of the features in the dataset are quite different. Scaling the features to a similar range can help the model perform better."
   ]
  },
  {
   "cell_type": "code",
   "execution_count": 14,
   "id": "d3b53acf-4f81-4c6f-8c05-d7613d925fae",
   "metadata": {},
   "outputs": [],
   "source": [
    "# Initializing the scaler\n",
    "scaler = StandardScaler()"
   ]
  },
  {
   "cell_type": "code",
   "execution_count": 15,
   "id": "8ecdf2b2-1f6a-4e79-be5a-8740bf614772",
   "metadata": {},
   "outputs": [],
   "source": [
    "X_train_scaled = scaler.fit_transform(X_train)\n",
    "X_test_scaled = scaler.transform(X_test)"
   ]
  },
  {
   "cell_type": "markdown",
   "id": "de5bb2ee-3796-4cc2-bc05-e596e6a96c02",
   "metadata": {},
   "source": [
    "#### ● Model Building: Build a Logistic Regression model using the training data."
   ]
  },
  {
   "cell_type": "code",
   "execution_count": 16,
   "id": "27e82449-d1cb-406f-9ecb-f1707d09b19f",
   "metadata": {},
   "outputs": [],
   "source": [
    "# Initializing the model\n",
    "model = LogisticRegression()"
   ]
  },
  {
   "cell_type": "code",
   "execution_count": 18,
   "id": "c46a4728-8983-4465-b4ef-0126e03f0c37",
   "metadata": {},
   "outputs": [
    {
     "data": {
      "text/html": [
       "<style>#sk-container-id-2 {color: black;}#sk-container-id-2 pre{padding: 0;}#sk-container-id-2 div.sk-toggleable {background-color: white;}#sk-container-id-2 label.sk-toggleable__label {cursor: pointer;display: block;width: 100%;margin-bottom: 0;padding: 0.3em;box-sizing: border-box;text-align: center;}#sk-container-id-2 label.sk-toggleable__label-arrow:before {content: \"▸\";float: left;margin-right: 0.25em;color: #696969;}#sk-container-id-2 label.sk-toggleable__label-arrow:hover:before {color: black;}#sk-container-id-2 div.sk-estimator:hover label.sk-toggleable__label-arrow:before {color: black;}#sk-container-id-2 div.sk-toggleable__content {max-height: 0;max-width: 0;overflow: hidden;text-align: left;background-color: #f0f8ff;}#sk-container-id-2 div.sk-toggleable__content pre {margin: 0.2em;color: black;border-radius: 0.25em;background-color: #f0f8ff;}#sk-container-id-2 input.sk-toggleable__control:checked~div.sk-toggleable__content {max-height: 200px;max-width: 100%;overflow: auto;}#sk-container-id-2 input.sk-toggleable__control:checked~label.sk-toggleable__label-arrow:before {content: \"▾\";}#sk-container-id-2 div.sk-estimator input.sk-toggleable__control:checked~label.sk-toggleable__label {background-color: #d4ebff;}#sk-container-id-2 div.sk-label input.sk-toggleable__control:checked~label.sk-toggleable__label {background-color: #d4ebff;}#sk-container-id-2 input.sk-hidden--visually {border: 0;clip: rect(1px 1px 1px 1px);clip: rect(1px, 1px, 1px, 1px);height: 1px;margin: -1px;overflow: hidden;padding: 0;position: absolute;width: 1px;}#sk-container-id-2 div.sk-estimator {font-family: monospace;background-color: #f0f8ff;border: 1px dotted black;border-radius: 0.25em;box-sizing: border-box;margin-bottom: 0.5em;}#sk-container-id-2 div.sk-estimator:hover {background-color: #d4ebff;}#sk-container-id-2 div.sk-parallel-item::after {content: \"\";width: 100%;border-bottom: 1px solid gray;flex-grow: 1;}#sk-container-id-2 div.sk-label:hover label.sk-toggleable__label {background-color: #d4ebff;}#sk-container-id-2 div.sk-serial::before {content: \"\";position: absolute;border-left: 1px solid gray;box-sizing: border-box;top: 0;bottom: 0;left: 50%;z-index: 0;}#sk-container-id-2 div.sk-serial {display: flex;flex-direction: column;align-items: center;background-color: white;padding-right: 0.2em;padding-left: 0.2em;position: relative;}#sk-container-id-2 div.sk-item {position: relative;z-index: 1;}#sk-container-id-2 div.sk-parallel {display: flex;align-items: stretch;justify-content: center;background-color: white;position: relative;}#sk-container-id-2 div.sk-item::before, #sk-container-id-2 div.sk-parallel-item::before {content: \"\";position: absolute;border-left: 1px solid gray;box-sizing: border-box;top: 0;bottom: 0;left: 50%;z-index: -1;}#sk-container-id-2 div.sk-parallel-item {display: flex;flex-direction: column;z-index: 1;position: relative;background-color: white;}#sk-container-id-2 div.sk-parallel-item:first-child::after {align-self: flex-end;width: 50%;}#sk-container-id-2 div.sk-parallel-item:last-child::after {align-self: flex-start;width: 50%;}#sk-container-id-2 div.sk-parallel-item:only-child::after {width: 0;}#sk-container-id-2 div.sk-dashed-wrapped {border: 1px dashed gray;margin: 0 0.4em 0.5em 0.4em;box-sizing: border-box;padding-bottom: 0.4em;background-color: white;}#sk-container-id-2 div.sk-label label {font-family: monospace;font-weight: bold;display: inline-block;line-height: 1.2em;}#sk-container-id-2 div.sk-label-container {text-align: center;}#sk-container-id-2 div.sk-container {/* jupyter's `normalize.less` sets `[hidden] { display: none; }` but bootstrap.min.css set `[hidden] { display: none !important; }` so we also need the `!important` here to be able to override the default hidden behavior on the sphinx rendered scikit-learn.org. See: https://github.com/scikit-learn/scikit-learn/issues/21755 */display: inline-block !important;position: relative;}#sk-container-id-2 div.sk-text-repr-fallback {display: none;}</style><div id=\"sk-container-id-2\" class=\"sk-top-container\"><div class=\"sk-text-repr-fallback\"><pre>LogisticRegression()</pre><b>In a Jupyter environment, please rerun this cell to show the HTML representation or trust the notebook. <br />On GitHub, the HTML representation is unable to render, please try loading this page with nbviewer.org.</b></div><div class=\"sk-container\" hidden><div class=\"sk-item\"><div class=\"sk-estimator sk-toggleable\"><input class=\"sk-toggleable__control sk-hidden--visually\" id=\"sk-estimator-id-2\" type=\"checkbox\" checked><label for=\"sk-estimator-id-2\" class=\"sk-toggleable__label sk-toggleable__label-arrow\">LogisticRegression</label><div class=\"sk-toggleable__content\"><pre>LogisticRegression()</pre></div></div></div></div></div>"
      ],
      "text/plain": [
       "LogisticRegression()"
      ]
     },
     "execution_count": 18,
     "metadata": {},
     "output_type": "execute_result"
    }
   ],
   "source": [
    "model.fit(X_train, y_train)"
   ]
  },
  {
   "cell_type": "code",
   "execution_count": 19,
   "id": "b3282e10-b95c-4689-87df-a18c28cf7f13",
   "metadata": {},
   "outputs": [
    {
     "data": {
      "text/plain": [
       "array([1, 1, 1, 1, 1, 1, 1, 1, 1, 1, 1, 1, 1, 1, 1, 1, 1, 1, 1, 1, 1, 1,\n",
       "       1, 1, 1, 1, 1, 1, 1, 1, 1, 1, 1, 1, 1, 1, 1, 1, 1, 1, 1, 1, 1, 1,\n",
       "       1, 1, 1, 1, 1, 1, 1, 1, 1, 1, 1, 1, 1, 1, 1, 1, 1, 1, 1, 1, 1, 1,\n",
       "       1, 1, 1, 1, 1, 1, 1, 1, 1, 1, 1, 1, 1, 1, 1, 1, 1, 1, 1, 1, 1, 1,\n",
       "       1, 1, 1, 1, 1, 1, 1, 1, 1, 1, 1, 1, 1, 1, 1, 1, 1, 1, 1, 1, 1, 1,\n",
       "       1, 1, 1, 1, 1, 1, 1, 1, 1, 1, 1, 1, 1, 1, 1, 1, 1, 1, 1, 1, 1, 1,\n",
       "       1, 1, 1, 1, 1, 1, 1, 1, 1, 1, 1, 1, 1, 1, 1, 1, 1, 1, 1, 1, 1, 1,\n",
       "       1, 1, 1, 1, 1, 1, 1, 1, 1, 1, 1, 1, 1, 1, 1, 1, 1, 1, 1, 1, 1, 1,\n",
       "       1, 1, 1, 1, 1, 1, 1, 1, 1, 1, 1, 1, 1, 1, 1, 1, 1, 1, 1, 1, 1, 1,\n",
       "       1, 1, 1, 1, 1, 1, 1, 1, 1, 1, 1, 1, 1, 1, 1, 1, 1, 1, 1, 1, 1, 1,\n",
       "       1, 1, 1, 1, 1, 1, 1, 1, 1, 1, 1, 1, 1, 1, 1, 1, 1, 1, 1, 1, 1, 1,\n",
       "       1, 1, 1, 1, 1, 1, 1, 1, 1, 1, 1, 1, 1, 1, 1, 1, 1, 1, 1, 1, 1, 1,\n",
       "       1, 1, 1, 1, 1, 1, 1, 1, 1, 1, 1, 1, 1, 1, 1, 1, 1, 1, 1, 1, 1, 1,\n",
       "       1, 1, 1, 1, 1, 1, 1, 1, 1, 1, 1, 1, 1, 1, 1, 1, 1, 1, 1, 1, 1, 1,\n",
       "       1, 1, 1, 1, 1, 1, 1, 1, 1, 1, 1, 1, 1, 1, 1, 1, 1, 1, 1, 1, 1, 1,\n",
       "       1, 1, 1, 1, 1, 1, 1, 1, 1, 1, 1, 1, 1, 1, 1, 1, 1, 1, 1, 1, 1, 1,\n",
       "       1, 1, 1, 1, 1, 1, 1, 1, 1, 1, 1, 1, 1, 1, 1, 1, 1, 1, 1, 1, 1, 1,\n",
       "       1, 1, 1, 1, 1, 1, 1, 1, 1, 1, 1, 1, 1, 1, 1, 1, 1, 1, 1, 1, 1, 1,\n",
       "       1, 1, 1, 1, 1, 1, 1, 1, 1, 1, 1, 1, 1, 1, 1, 1, 1, 1, 1, 1, 1, 1,\n",
       "       1, 1, 1, 1, 1, 1, 1, 1, 1, 1, 1, 1, 1, 1, 1, 1, 1, 1, 1, 1, 1, 1,\n",
       "       1, 1, 1, 1, 1, 1, 1, 1, 1, 1, 1, 1, 1, 1, 1, 1, 1, 1, 1, 1, 1, 1,\n",
       "       1, 1, 1, 1, 1, 1, 1, 1, 1, 1, 1, 1, 1, 1, 1, 1, 1, 1, 1, 1, 1, 1,\n",
       "       1, 1, 1, 1, 1, 1, 1, 1, 1, 1, 1, 1, 1, 1, 1, 1, 1, 1, 1, 1, 1, 1,\n",
       "       1, 1, 1, 1, 1, 1, 1, 1, 1, 1, 1, 1, 1, 1, 1, 1, 1, 1, 1, 1, 1, 1,\n",
       "       1, 1, 1, 1, 1, 1, 1, 1, 1, 1, 1, 1, 1, 1, 1, 1, 1, 1, 1, 1, 1, 1,\n",
       "       1, 1, 1, 1, 1, 1, 1, 1, 1, 1, 1, 1, 1, 1, 1, 1, 1, 1, 1, 1, 1, 1,\n",
       "       1, 1, 1, 1, 1, 1, 1, 1, 1, 1, 1, 1, 1, 1, 1, 1, 1, 1, 1, 1, 1, 1,\n",
       "       1, 1, 1, 1, 1, 1])"
      ]
     },
     "execution_count": 19,
     "metadata": {},
     "output_type": "execute_result"
    }
   ],
   "source": [
    "model.predict(X_test)"
   ]
  },
  {
   "cell_type": "code",
   "execution_count": 20,
   "id": "6f06b58f-e542-45fc-bb3d-724f138b04c9",
   "metadata": {},
   "outputs": [
    {
     "data": {
      "text/plain": [
       "0.6883333333333334"
      ]
     },
     "execution_count": 20,
     "metadata": {},
     "output_type": "execute_result"
    }
   ],
   "source": [
    "model.score(X_test, y_test)"
   ]
  },
  {
   "cell_type": "code",
   "execution_count": 21,
   "id": "3d3bd80f-3cf4-4e4b-9ee9-e5933a5f27ec",
   "metadata": {},
   "outputs": [
    {
     "data": {
      "text/plain": [
       "array([[0.39526729, 0.60473271],\n",
       "       [0.39412465, 0.60587535],\n",
       "       [0.40575401, 0.59424599],\n",
       "       ...,\n",
       "       [0.3031386 , 0.6968614 ],\n",
       "       [0.39416347, 0.60583653],\n",
       "       [0.39582917, 0.60417083]])"
      ]
     },
     "execution_count": 21,
     "metadata": {},
     "output_type": "execute_result"
    }
   ],
   "source": [
    "model.predict_proba(X_test)"
   ]
  },
  {
   "cell_type": "markdown",
   "id": "3b37ecbd-f497-4ea1-8717-489e22bbfc6c",
   "metadata": {},
   "source": [
    "#### ● Model Evaluation: Evaluate the model using appropriate metrics and the test data."
   ]
  },
  {
   "cell_type": "code",
   "execution_count": 22,
   "id": "a64f291b-f8ff-4dea-8561-df607d40c969",
   "metadata": {},
   "outputs": [
    {
     "name": "stdout",
     "output_type": "stream",
     "text": [
      "Accuracy: 0.51\n",
      "Confusion Matrix:\n",
      " [[ 90  97]\n",
      " [199 214]]\n",
      "Classification Report:\n",
      "               precision    recall  f1-score   support\n",
      "\n",
      "           0       0.31      0.48      0.38       187\n",
      "           1       0.69      0.52      0.59       413\n",
      "\n",
      "    accuracy                           0.51       600\n",
      "   macro avg       0.50      0.50      0.48       600\n",
      "weighted avg       0.57      0.51      0.52       600\n",
      "\n"
     ]
    },
    {
     "name": "stderr",
     "output_type": "stream",
     "text": [
      "/usr/local/lib/python3.10/site-packages/sklearn/base.py:465: UserWarning: X does not have valid feature names, but LogisticRegression was fitted with feature names\n",
      "  warnings.warn(\n"
     ]
    }
   ],
   "source": [
    "# Making predictions on the test set\n",
    "y_pred = model.predict(X_test_scaled)\n",
    "\n",
    "# Calculating accuracy\n",
    "accuracy = accuracy_score(y_test, y_pred)\n",
    "print(f'Accuracy: {accuracy:.2f}')\n",
    "\n",
    "# Confusion Matrix\n",
    "conf_matrix = confusion_matrix(y_test, y_pred)\n",
    "print('Confusion Matrix:\\n', conf_matrix)\n",
    "\n",
    "# Classification Report\n",
    "class_report = classification_report(y_test, y_pred)\n",
    "print('Classification Report:\\n', class_report)"
   ]
  },
  {
   "cell_type": "code",
   "execution_count": 23,
   "id": "45c87e24-6a75-4871-9141-20eb0b3db069",
   "metadata": {},
   "outputs": [],
   "source": [
    "# saving the dataframe\n",
    "df.to_csv('Flyzy Flight Cancellation - Preprocessed.csv')"
   ]
  },
  {
   "cell_type": "code",
   "execution_count": null,
   "id": "9d16d8ff-7141-48b9-89c8-40efd1ac5ac4",
   "metadata": {},
   "outputs": [],
   "source": []
  }
 ],
 "metadata": {
  "kernelspec": {
   "display_name": "Python 3 [3.10]",
   "language": "python",
   "name": "python3"
  },
  "language_info": {
   "codemirror_mode": {
    "name": "ipython",
    "version": 3
   },
   "file_extension": ".py",
   "mimetype": "text/x-python",
   "name": "python",
   "nbconvert_exporter": "python",
   "pygments_lexer": "ipython3",
   "version": "3.10.2"
  }
 },
 "nbformat": 4,
 "nbformat_minor": 5
}
